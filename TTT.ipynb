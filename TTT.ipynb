{
 "cells": [
  {
   "cell_type": "code",
   "execution_count": 31,
   "metadata": {},
   "outputs": [
    {
     "data": {
      "text/plain": [
       "<module 'TTTai' from 'c:\\\\Users\\\\norma\\\\OneDrive\\\\Desktop\\\\PProjects\\\\Tic-Tac-Nope\\\\TTTai.py'>"
      ]
     },
     "execution_count": 31,
     "metadata": {},
     "output_type": "execute_result"
    }
   ],
   "source": [
    "from importlib import reload\n",
    "\n",
    "import TTT\n",
    "import TTTai\n",
    "\n",
    "reload(TTT)\n",
    "reload(TTTai)\n"
   ]
  },
  {
   "cell_type": "code",
   "execution_count": 32,
   "metadata": {},
   "outputs": [
    {
     "name": "stdout",
     "output_type": "stream",
     "text": [
      "(' ', ' ', ' ', ' ', ' ', ' ', ' ', ' ', ' ')\n",
      "NO\n",
      "YES?\n"
     ]
    }
   ],
   "source": [
    "game = TTT.TTT()\n",
    "ai = TTTai.TTTai()\n",
    "\n",
    "ai.make_move(game.board, \"X\")"
   ]
  },
  {
   "cell_type": "code",
   "execution_count": 35,
   "metadata": {},
   "outputs": [
    {
     "name": "stdout",
     "output_type": "stream",
     "text": [
      "4\n"
     ]
    }
   ],
   "source": [
    "board = (\"X\", \"X\", \"X\", \"X\", \"O\", \" \")\n",
    "print(board.count(\"X\"))"
   ]
  }
 ],
 "metadata": {
  "kernelspec": {
   "display_name": "Python 3",
   "language": "python",
   "name": "python3"
  },
  "language_info": {
   "codemirror_mode": {
    "name": "ipython",
    "version": 3
   },
   "file_extension": ".py",
   "mimetype": "text/x-python",
   "name": "python",
   "nbconvert_exporter": "python",
   "pygments_lexer": "ipython3",
   "version": "3.12.3"
  }
 },
 "nbformat": 4,
 "nbformat_minor": 2
}
