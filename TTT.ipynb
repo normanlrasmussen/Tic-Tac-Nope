{
 "cells": [
  {
   "cell_type": "code",
   "execution_count": 15,
   "metadata": {},
   "outputs": [
    {
     "data": {
      "text/plain": [
       "<module 'MMai' from 'c:\\\\Users\\\\norma\\\\OneDrive\\\\Desktop\\\\PProjects\\\\Tic-Tac-Nope\\\\MMai.py'>"
      ]
     },
     "execution_count": 15,
     "metadata": {},
     "output_type": "execute_result"
    }
   ],
   "source": [
    "from importlib import reload\n",
    "\n",
    "import TTT\n",
    "import TTTai\n",
    "import MMai\n",
    "\n",
    "reload(TTT)\n",
    "reload(TTTai)\n",
    "reload(MMai)\n"
   ]
  },
  {
   "cell_type": "code",
   "execution_count": 16,
   "metadata": {},
   "outputs": [
    {
     "name": "stdout",
     "output_type": "stream",
     "text": [
      "Existing Data Found, Loading model\n",
      "Load Complete\n",
      "  Move 1 Move 2 Move 3 Move 4 Move 5 Move 6 Move 7 Move 8 Move 9  Result\n",
      "0  (0,0)  (0,1)  (0,2)  (1,0)  (1,1)  (1,2)  (2,0)    NaN    NaN       1\n",
      "1  (0,0)  (0,1)  (0,2)  (1,0)  (1,1)  (1,2)  (2,1)  (2,0)  (2,2)       1\n",
      "2  (0,0)  (0,1)  (0,2)  (1,0)  (1,1)  (1,2)  (2,1)  (2,2)  (2,0)       1\n",
      "3  (0,0)  (0,1)  (0,2)  (1,0)  (1,1)  (1,2)  (2,2)    NaN    NaN       1\n",
      "4  (0,0)  (0,1)  (0,2)  (1,0)  (1,1)  (2,0)  (1,2)  (2,1)  (2,2)       1\n"
     ]
    }
   ],
   "source": [
    "mom = MMai.MMai()\n",
    "print(mom.df.head())"
   ]
  }
 ],
 "metadata": {
  "kernelspec": {
   "display_name": "Python 3",
   "language": "python",
   "name": "python3"
  },
  "language_info": {
   "codemirror_mode": {
    "name": "ipython",
    "version": 3
   },
   "file_extension": ".py",
   "mimetype": "text/x-python",
   "name": "python",
   "nbconvert_exporter": "python",
   "pygments_lexer": "ipython3",
   "version": "3.12.3"
  }
 },
 "nbformat": 4,
 "nbformat_minor": 2
}
